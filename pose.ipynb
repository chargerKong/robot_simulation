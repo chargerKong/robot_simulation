{
 "cells": [
  {
   "cell_type": "code",
   "execution_count": 2,
   "id": "98a1b316",
   "metadata": {},
   "outputs": [],
   "source": [
    "import numpy as np"
   ]
  },
  {
   "cell_type": "code",
   "execution_count": 25,
   "id": "fbbf23e3",
   "metadata": {},
   "outputs": [],
   "source": [
    "def v2r(v):\n",
    "    return np.array(\n",
    "        [[np.cos(v[2]),-np.sin(v[2]),v[0]],\n",
    "         [np.sin(v[2]),np.cos(v[2]),v[1]],\n",
    "         [0,0,1]])\n",
    "def r2v(r):\n",
    "    return np.array([r[0, 2], r[1, 2], np.arctan2(r[1, 0], r[0, 0])])"
   ]
  },
  {
   "cell_type": "code",
   "execution_count": 53,
   "id": "f7a1fafb",
   "metadata": {},
   "outputs": [],
   "source": [
    "pose_A = [1, 1, 1.57]\n",
    "pose_B = [1, 1, 0]"
   ]
  },
  {
   "cell_type": "code",
   "execution_count": 54,
   "id": "114ad3a2",
   "metadata": {},
   "outputs": [],
   "source": [
    "T_AB = np.linalg.inv(v2r(pose_B))@v2r(pose_A)"
   ]
  },
  {
   "cell_type": "code",
   "execution_count": 55,
   "id": "e86b3b40",
   "metadata": {},
   "outputs": [
    {
     "data": {
      "text/plain": [
       "array([7.96643779e-04, 2.00079601e+00, 1.57000000e+00])"
      ]
     },
     "execution_count": 55,
     "metadata": {},
     "output_type": "execute_result"
    }
   ],
   "source": [
    "r2v(v2r(pose_A)@v2r(pose_B))"
   ]
  },
  {
   "cell_type": "markdown",
   "id": "9e2c385c",
   "metadata": {},
   "source": [
    "答案竟然是[0, 2, 0]"
   ]
  },
  {
   "cell_type": "code",
   "execution_count": 56,
   "id": "019861cd",
   "metadata": {},
   "outputs": [
    {
     "data": {
      "text/plain": [
       "array([2.  , 2.  , 1.57])"
      ]
     },
     "execution_count": 56,
     "metadata": {},
     "output_type": "execute_result"
    }
   ],
   "source": [
    "r2v(v2r(pose_B)@v2r(pose_A))"
   ]
  },
  {
   "cell_type": "code",
   "execution_count": null,
   "id": "81e00de3",
   "metadata": {},
   "outputs": [],
   "source": []
  }
 ],
 "metadata": {
  "kernelspec": {
   "display_name": "Python 3 (ipykernel)",
   "language": "python",
   "name": "python3"
  },
  "language_info": {
   "codemirror_mode": {
    "name": "ipython",
    "version": 3
   },
   "file_extension": ".py",
   "mimetype": "text/x-python",
   "name": "python",
   "nbconvert_exporter": "python",
   "pygments_lexer": "ipython3",
   "version": "3.8.10"
  }
 },
 "nbformat": 4,
 "nbformat_minor": 5
}
