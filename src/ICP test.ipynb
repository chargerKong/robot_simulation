{
 "cells": [
  {
   "cell_type": "code",
   "execution_count": 257,
   "id": "6a68588d",
   "metadata": {},
   "outputs": [],
   "source": [
    "import matplotlib.pyplot as plt\n",
    "import numpy as np\n",
    "import math\n",
    "from sklearn.neighbors import KDTree"
   ]
  },
  {
   "cell_type": "code",
   "execution_count": 278,
   "id": "cbf96814",
   "metadata": {},
   "outputs": [],
   "source": [
    "pre = np.array([2.2172601222991943, 2.222874402999878, 2.205129384994507, 2.1986029148101807, 2.1858696937561035, 2.1957268714904785, 2.1969168186187744, 2.183438539505005, 2.190436601638794, 2.1827948093414307, 2.1837754249572754, 2.2076597213745117, 2.177976131439209, 2.1731295585632324, 2.185473918914795, 2.1618497371673584, 2.1733145713806152, 2.181365728378296, 2.1715705394744873, 2.1802971363067627, 2.1772191524505615, 2.1959474086761475, 2.1840665340423584, 0.5597301125526428, 0.5485700964927673, 0.5352249145507812, 0.5243845582008362, 0.5171780586242676, 0.49347609281539917, 0.500745415687561, 0.5121733546257019, 0.5016278624534607, 0.5036090016365051, 0.5045422911643982, 0.5057468414306641, 0.48604974150657654, 0.4834277033805847, 0.49271881580352783, 0.4894062876701355, 0.47749894857406616, 0.47225064039230347, 0.47715726494789124, 0.48048126697540283, 0.4855308532714844, 0.4973067045211792, 0.4793863892555237, 0.4819462299346924, 0.4518357813358307, 0.48269888758659363, 0.4819696545600891, 0.4706280529499054, 0.4844808280467987, 0.4945412874221802, 0.5085427761077881, 0.49312782287597656, 0.500328540802002, 0.49513912200927734, 0.4999622404575348, 0.5043498277664185, 0.5245479345321655, 0.541199266910553, 0.5258843302726746, 0.5450403690338135, 0.5684719681739807, 1.9805926084518433, 1.992526888847351, 1.988566279411316, 2.026911735534668, 2.0081746578216553, 2.046605110168457, 2.0853240489959717, 2.075857162475586, 2.0827317237854004, 2.1258904933929443, 2.14408540725708, 2.169947624206543, 2.1946492195129395, 2.1616666316986084, 2.172661781311035, 2.154602289199829, 2.1330761909484863, 2.13897442817688, 2.137460470199585, 2.13767671585083, 2.098261594772339, 2.0943005084991455, 2.0957398414611816, 2.0956742763519287, 2.087766170501709, 2.091048002243042, 2.1002793312072754, 2.0828135013580322, 2.063037872314453, 2.0801477432250977, 2.062371015548706, 2.0871875286102295, 2.083261013031006, 2.0732927322387695, 2.08502197265625, 2.0588319301605225, 2.0332274436950684, 2.0723254680633545, 2.0552995204925537, 2.057854413986206, 2.069274663925171, 2.032874822616577, 2.0648837089538574, 2.072674512863159, 2.062706470489502, 2.045621633529663, 2.0590219497680664, 2.059302568435669, 2.0588607788085938, 2.0754079818725586, 2.0734634399414062, 2.0726094245910645, 2.0943069458007812, 2.0891125202178955, 2.0705318450927734, 2.0788536071777344, 2.10817289352417, 2.1069400310516357, 2.109229326248169, 2.101857900619507, 2.1055896282196045, 2.115345001220703, 2.119300127029419, 2.1327497959136963, 2.1400115489959717, 2.1617844104766846, 2.134272575378418, 2.146404266357422, 2.1694626808166504, 2.1619796752929688, 2.190279006958008, 2.1727895736694336, 1.1113004684448242, 1.100041389465332, 1.0575999021530151, 1.0355123281478882, 1.0419548749923706, 1.037386417388916, 1.0438101291656494, 0.994590163230896, 1.027056336402893, 1.0087417364120483, 1.0027227401733398, 1.0239629745483398, 1.0005853176116943, 1.017919659614563, 1.0248370170593262, 1.0239020586013794, 1.0181171894073486, 1.0272765159606934, 1.0323562622070312, 1.0463443994522095, 1.0655380487442017, 1.0990997552871704, 2.132075071334839, 2.1586179733276367, 2.149562358856201, 2.172996759414673, 2.202742576599121, 2.2174174785614014, 2.2322938442230225, 2.2515151500701904, 2.286550283432007, 2.2972664833068848, 2.330606698989868, 2.3576974868774414, 2.3825862407684326, 2.4172351360321045, 2.4361069202423096, 2.461888313293457, 2.5018298625946045, 2.4925389289855957, 2.4813530445098877, 2.452197313308716, 2.4803617000579834, 2.4636669158935547, 2.4398932456970215])"
   ]
  },
  {
   "cell_type": "code",
   "execution_count": 261,
   "id": "3c79ebf0",
   "metadata": {},
   "outputs": [],
   "source": [
    "def convert_scan_to_pointcloud(scan):\n",
    "    \"\"\"\n",
    "    把激光消息转换为激光坐标系下的二维点云\n",
    "    \"\"\"\n",
    "    angle_min=-1.0466699600219727\n",
    "    angle_max=1.0466699600219727\n",
    "    angle_increment=0.011629666201770306\n",
    "    n = len(scan)\n",
    "    pcs = np.zeros((n, 2))\n",
    "    angle = angle_min\n",
    "    for i in range(n):\n",
    "        if scan[i] < 0.07999999821186066 or scan[i] > 6.0:\n",
    "            continue\n",
    "        angle += angle_increment\n",
    "        # 计算单个值的三角函数，math比numpy的快\n",
    "        lx = scan[i] * math.sin(angle)\n",
    "        ly = scan[i] * math.cos(angle)\n",
    "        if not lx or not ly:\n",
    "            continue\n",
    "        pcs[i][0] = lx\n",
    "        pcs[i][1] = ly\n",
    "\n",
    "    return pcs"
   ]
  },
  {
   "cell_type": "code",
   "execution_count": 280,
   "id": "5a9a2562",
   "metadata": {},
   "outputs": [],
   "source": [
    "y_data_pre = convert_scan_to_pointcloud(pre)"
   ]
  },
  {
   "cell_type": "code",
   "execution_count": 289,
   "id": "1251fcf2",
   "metadata": {},
   "outputs": [],
   "source": [
    "# y_data_now = convert_scan_to_pointcloud(now)"
   ]
  },
  {
   "cell_type": "markdown",
   "id": "369ea29c",
   "metadata": {},
   "source": [
    "## 已知对应点关系的ICP"
   ]
  },
  {
   "cell_type": "markdown",
   "id": "414d20b0",
   "metadata": {},
   "source": [
    "### 创造对应点的数据"
   ]
  },
  {
   "cell_type": "code",
   "execution_count": 318,
   "id": "dda9656c",
   "metadata": {},
   "outputs": [
    {
     "name": "stdout",
     "output_type": "stream",
     "text": [
      "the rotation matrix should be:\n",
      " [[ 0.70710679 -0.70710677]\n",
      " [ 0.70710677  0.70710679]]\n"
     ]
    }
   ],
   "source": [
    "# 创造一下数据\n",
    "# 为已知的点云进行变换，假设为旋转pi/8,平移距离为（1，1）\n",
    "theta = 3.1415926/4\n",
    "t = np.array([0.5, 0.5])\n",
    "R = np.array([[np.cos(theta), -np.sin(theta)], [np.sin(theta), np.cos(theta)]])\n",
    "y_data_now = (R @ y_data_pre.T).T + t\n",
    "print(\"the rotation matrix should be:\\n {}\".format(R))"
   ]
  },
  {
   "cell_type": "code",
   "execution_count": 319,
   "id": "0e120b4c",
   "metadata": {},
   "outputs": [
    {
     "data": {
      "text/plain": [
       "<matplotlib.collections.PathCollection at 0x7f87bd0c2820>"
      ]
     },
     "execution_count": 319,
     "metadata": {},
     "output_type": "execute_result"
    },
    {
     "data": {
      "image/png": "[encoded data removed]",
      "text/plain": [
       "<Figure size 432x288 with 1 Axes>"
      ]
     },
     "metadata": {
      "needs_background": "light"
     },
     "output_type": "display_data"
    }
   ],
   "source": [
    "# 画出两点云\n",
    "plt.scatter(y_data_pre[:,0], y_data_pre[:,1], marker='o', s=10)\n",
    "plt.scatter(y_data_now[:,0], y_data_now[:,1], marker='o', s=10)"
   ]
  },
  {
   "cell_type": "markdown",
   "id": "42f5fb82",
   "metadata": {},
   "source": [
    "### ICP数据匹配实验"
   ]
  },
  {
   "cell_type": "code",
   "execution_count": 320,
   "id": "6ed55568",
   "metadata": {},
   "outputs": [],
   "source": [
    "# 通过匹配已知匹配的点云计算相对姿态\n",
    "def icp(y_data_pre, y_data_now):\n",
    "    \"\"\"\n",
    "    y_data_pre: shape=(n, 2)\n",
    "    y_data_now: the same snow_tmhape of y_data_pre = (n, 2)\n",
    "    \n",
    "    return: R and t. The transformation from pre to now\n",
    "    \"\"\"\n",
    "    total_R = np.eye(3)\n",
    "    \n",
    "    pre_tm, now_tm = y_data_pre, y_data_now\n",
    "\n",
    "    pre_t, now_t = pre_tm - np.mean(pre_tm, axis=0), now_tm - np.mean(now_tm, axis=0)\n",
    "\n",
    "    W = np.zeros((2,2))\n",
    "\n",
    "    for i in range(pre_t.shape[0]):\n",
    "        W += pre_t[i:i+1].T @ now_t[i:i+1]\n",
    "\n",
    "    U, sigma, V = np.linalg.svd(W)\n",
    "    R = V @ U.T\n",
    "    t = np.mean(now_tm, axis=0) - R@np.mean(pre_tm, axis=0).T\n",
    "    \n",
    "    return trans_to_isometry2d(R, t)"
   ]
  },
  {
   "cell_type": "markdown",
   "id": "05572d84",
   "metadata": {},
   "source": [
    "可以看见，通过ICP可以一次直接计算出来相对应的旋转关系。和我们之前设置的R和t保持一致"
   ]
  },
  {
   "cell_type": "code",
   "execution_count": 302,
   "id": "49a9a73d",
   "metadata": {
    "scrolled": false
   },
   "outputs": [
    {
     "data": {
      "text/plain": [
       "array([[ 0.70710679, -0.70710677,  0.5       ],\n",
       "       [ 0.70710677,  0.70710679,  0.5       ],\n",
       "       [ 0.        ,  0.        ,  1.        ]])"
      ]
     },
     "execution_count": 302,
     "metadata": {},
     "output_type": "execute_result"
    }
   ],
   "source": [
    "icp(y_data_pre, y_data_now)"
   ]
  },
  {
   "cell_type": "markdown",
   "id": "a6039d17",
   "metadata": {},
   "source": [
    "对y_data_pre进行旋转平移，后画图"
   ]
  },
  {
   "cell_type": "code",
   "execution_count": 311,
   "id": "11d582ac",
   "metadata": {},
   "outputs": [],
   "source": [
    "y_data_from_icp = (icp(y_data_pre, y_data_now) @ np.hstack((y_data_pre, np.ones((y_data_pre.shape[0], 1)))).T).T"
   ]
  },
  {
   "cell_type": "code",
   "execution_count": 317,
   "id": "ae9c7a81",
   "metadata": {},
   "outputs": [
    {
     "data": {
      "text/plain": [
       "<matplotlib.collections.PathCollection at 0x7f87bd0e3df0>"
      ]
     },
     "execution_count": 317,
     "metadata": {},
     "output_type": "execute_result"
    },
    {
     "data": {
      "image/png": "[encoded data removed]",
      "text/plain": [
       "<Figure size 432x288 with 1 Axes>"
      ]
     },
     "metadata": {
      "needs_background": "light"
     },
     "output_type": "display_data"
    }
   ],
   "source": [
    "plt.scatter(y_data_from_icp[:,0], y_data_from_icp[:,1], marker='o', s=15)\n",
    "plt.scatter(y_data_now[:,0], y_data_now[:,1], marker='o', s=5)"
   ]
  },
  {
   "cell_type": "code",
   "execution_count": 273,
   "id": "23104e69",
   "metadata": {},
   "outputs": [],
   "source": [
    "# pre_tm, now_tm = y_data_pre, y_data_now\n",
    "\n",
    "# pre_t, now_t = pre_tm - np.mean(pre_tm, axis=0), now_tm - np.mean(now_tm, axis=0)\n",
    "\n",
    "# W = np.zeros((2,2))\n",
    "\n",
    "# for i in range(pre_t.shape[0]):\n",
    "#     W += pre_t[i:i+1].T @ now_t[i:i+1]\n",
    "\n",
    "# U, sigma, V = np.linalg.svd(W)\n",
    "# R = V @ U.T\n",
    "# t = np.mean(now_tm, axis=0) - R@np.mean(pre_tm, axis=0).T"
   ]
  },
  {
   "cell_type": "markdown",
   "id": "e00d6b6a",
   "metadata": {},
   "source": [
    "## 未知对应点关系的ICP"
   ]
  },
  {
   "cell_type": "code",
   "execution_count": 321,
   "id": "9c296904",
   "metadata": {},
   "outputs": [],
   "source": [
    "def find_correspend_point(y_data_pre, y_data_now):\n",
    "    # 寻找对应点, 建立上一帧数据的KD树，循环下一帧的点\n",
    "    # 寻找距离此点最近的在上一帧中的数据，保存到data_from_pre\n",
    "    kdt = KDTree(y_data_now)\n",
    "    data_from_now = []\n",
    "    for point_idx in range(y_data_pre.shape[0]):\n",
    "        point = y_data_pre[point_idx:point_idx+1]\n",
    "        dist, idx = kdt.query(point, k=1)\n",
    "        data_from_now.append(y_data_now[idx.squeeze()])\n",
    "    return y_data_pre, data_from_now"
   ]
  },
  {
   "cell_type": "code",
   "execution_count": 339,
   "id": "75a7267f",
   "metadata": {},
   "outputs": [],
   "source": [
    "def icpp(y_data_pre, y_data_now):\n",
    "    \"\"\"\n",
    "    y_data_pre: shape=(n, 2)\n",
    "    y_data_now: the same snow_tmhape of y_data_pre = (n, 2)\n",
    "    \n",
    "    return: R and t. The transformation from pre to now\n",
    "    \"\"\"\n",
    "    total_R = np.eye(3)\n",
    "    \n",
    "    for j in range(9):\n",
    "        pre_tm, now_tm = find_correspend_point(y_data_pre, y_data_now)\n",
    "        \n",
    "        pre_t, now_t = pre_tm - np.mean(pre_tm, axis=0), now_tm - np.mean(now_tm, axis=0)\n",
    "        \n",
    "        W = np.zeros((2,2))\n",
    "\n",
    "        for i in range(pre_t.shape[0]):\n",
    "            W += pre_t[i:i+1].T @ now_t[i:i+1]\n",
    "\n",
    "        U, sigma, V = np.linalg.svd(W)\n",
    "        R = V @ U.T\n",
    "        t = np.mean(now_tm, axis=0) - R@np.mean(pre_tm, axis=0).T\n",
    "        \n",
    "        y_data_pre = (R @ pre_tm.T).T + t\n",
    "        \n",
    "        total_R = trans_to_isometry2d(R, t) @ total_R\n",
    "        \n",
    "        plt.subplot(3,3,j+1)\n",
    "#         y_data_from_icp = (total_R @ np.hstack((y_data_pre, np.ones((y_data_pre.shape[0], 1)))).T).T\n",
    "        plt.scatter(y_data_pre[:,0], y_data_pre[:,1], marker='o', s=5)\n",
    "        plt.scatter(y_data_now[:,0], y_data_now[:,1], marker='o', s=1)\n",
    "        \n",
    "        \n",
    "    return total_R"
   ]
  },
  {
   "cell_type": "code",
   "execution_count": 340,
   "id": "0f8b3f42",
   "metadata": {},
   "outputs": [
    {
     "data": {
      "text/plain": [
       "array([[ 0.71306327, -0.70109969,  0.49321953],\n",
       "       [ 0.70109969,  0.71306327,  0.49672066],\n",
       "       [ 0.        ,  0.        ,  1.        ]])"
      ]
     },
     "execution_count": 340,
     "metadata": {},
     "output_type": "execute_result"
    },
    {
     "data": {
      "image/png": "[encoded data removed]",
      "text/plain": [
       "<Figure size 432x288 with 9 Axes>"
      ]
     },
     "metadata": {
      "needs_background": "light"
     },
     "output_type": "display_data"
    }
   ],
   "source": [
    "icpp(y_data_pre, y_data_now)"
   ]
  },
  {
   "cell_type": "code",
   "execution_count": null,
   "id": "6582b72d",
   "metadata": {},
   "outputs": [],
   "source": []
  },
  {
   "cell_type": "code",
   "execution_count": null,
   "id": "eb65e9bf",
   "metadata": {},
   "outputs": [],
   "source": []
  },
  {
   "cell_type": "code",
   "execution_count": null,
   "id": "dae71d5d",
   "metadata": {},
   "outputs": [],
   "source": []
  },
  {
   "cell_type": "code",
   "execution_count": 78,
   "id": "dfd91674",
   "metadata": {},
   "outputs": [],
   "source": [
    "def trans_to_isometry2d(R, t):\n",
    "    res = np.eye(3)\n",
    "    res[:2, :2] = R\n",
    "    res[:2, 2] = t.squeeze()\n",
    "    return res"
   ]
  },
  {
   "cell_type": "code",
   "execution_count": 51,
   "id": "ee4f4348",
   "metadata": {},
   "outputs": [
    {
     "data": {
      "text/plain": [
       "array([[ 1.00000000e+00,  1.14834421e-16,  1.20000000e-01],\n",
       "       [-5.60301033e-17,  1.00000000e+00,  1.12000000e-01],\n",
       "       [ 0.00000000e+00,  0.00000000e+00,  1.00000000e+00]])"
      ]
     },
     "execution_count": 51,
     "metadata": {},
     "output_type": "execute_result"
    }
   ],
   "source": [
    "icp(y_data_pre, y_data_now)"
   ]
  },
  {
   "cell_type": "code",
   "execution_count": 52,
   "id": "d236a0e0",
   "metadata": {
    "scrolled": true
   },
   "outputs": [
    {
     "data": {
      "text/plain": [
       "array([[ 0.99966573, -0.02585395,  0.07092335],\n",
       "       [ 0.02585395,  0.99966573,  0.07573615],\n",
       "       [ 0.        ,  0.        ,  1.        ]])"
      ]
     },
     "execution_count": 52,
     "metadata": {},
     "output_type": "execute_result"
    }
   ],
   "source": [
    "# 寻找对应点, 建立上一帧数据的KD树，循环下一帧的点\n",
    "# 寻找距离此点最近的在上一帧中的数据，保存到data_from_pre\n",
    "kdt = KDTree(y_data_now)\n",
    "data_from_now = []\n",
    "for point_idx in range(y_data_pre.shape[0]):\n",
    "    point = y_data_pre[point_idx:point_idx+1]\n",
    "    dist, idx = kdt.query(point, k=1)\n",
    "    data_from_now.append(y_data_now[idx.squeeze()])\n",
    "\n",
    "icp(y_data_pre, data_from_now)"
   ]
  },
  {
   "cell_type": "code",
   "execution_count": 53,
   "id": "902ce503",
   "metadata": {},
   "outputs": [],
   "source": [
    "p = np.hstack((y_data_pre, np.ones((y_data_pre.shape[0], 1))))"
   ]
  },
  {
   "cell_type": "code",
   "execution_count": 54,
   "id": "874872c7",
   "metadata": {
    "scrolled": true
   },
   "outputs": [
    {
     "data": {
      "text/plain": [
       "array([[ 1.00000000e+00,  2.36658972e-17,  1.20000000e-01],\n",
       "       [-1.70866857e-17,  1.00000000e+00,  1.12000000e-01],\n",
       "       [ 0.00000000e+00,  0.00000000e+00,  1.00000000e+00]])"
      ]
     },
     "execution_count": 54,
     "metadata": {},
     "output_type": "execute_result"
    }
   ],
   "source": [
    "tran_p = np.hstack((now_t, np.ones((y_data_now.shape[0], 1))))\n",
    "\n",
    "trans_to_isometry2d(R, t)"
   ]
  },
  {
   "cell_type": "code",
   "execution_count": null,
   "id": "1f8b3be2",
   "metadata": {},
   "outputs": [],
   "source": []
  },
  {
   "cell_type": "code",
   "execution_count": 55,
   "id": "c83d0918",
   "metadata": {
    "scrolled": false
   },
   "outputs": [
    {
     "data": {
      "text/plain": [
       "<matplotlib.collections.PathCollection at 0x7f87bf3c8f40>"
      ]
     },
     "execution_count": 55,
     "metadata": {},
     "output_type": "execute_result"
    },
    {
     "data": {
      "image/png": "[encoded data removed]",
      "text/plain": [
       "<Figure size 432x288 with 1 Axes>"
      ]
     },
     "metadata": {
      "needs_background": "light"
     },
     "output_type": "display_data"
    }
   ],
   "source": [
    "plt.scatter(y_data_now[:,0], y_data_now[:,1], marker='o', s=10)\n",
    "plt.scatter(y_data_pre[:,0], y_data_pre[:,1], s=10)"
   ]
  },
  {
   "cell_type": "code",
   "execution_count": null,
   "id": "fc06682f",
   "metadata": {},
   "outputs": [],
   "source": []
  },
  {
   "cell_type": "code",
   "execution_count": 151,
   "id": "634a0a87",
   "metadata": {},
   "outputs": [],
   "source": [
    "# 转变为isometry2D\n",
    "R, t = np.eye(2), np.zeroXs((2, 1))\n",
    "iso_R = trans_to_isometry2d(R, t)\n",
    "y_data_now_p = np.hstack((y_data_now, np.ones((y_data_now.shape[0], 1))))\n",
    "# 相乘，转换到y_data_pre的位置上\n",
    "next_p = (iso_R @ y_data_now_p.T).T"
   ]
  },
  {
   "cell_type": "code",
   "execution_count": 237,
   "id": "11fcfe47",
   "metadata": {},
   "outputs": [],
   "source": []
  },
  {
   "cell_type": "code",
   "execution_count": 238,
   "id": "eaacb6ad",
   "metadata": {},
   "outputs": [],
   "source": []
  },
  {
   "cell_type": "code",
   "execution_count": 297,
   "id": "6c24baaa",
   "metadata": {},
   "outputs": [],
   "source": []
  },
  {
   "cell_type": "code",
   "execution_count": null,
   "id": "c6e21a8b",
   "metadata": {},
   "outputs": [],
   "source": []
  },
  {
   "cell_type": "code",
   "execution_count": 70,
   "id": "1cef1a68",
   "metadata": {},
   "outputs": [],
   "source": [
    "# 寻找对应点, 建立上一帧数据的KD树，循环下一帧的点\n",
    "# 寻找距离此点最近的在上一帧中的数据，保存到data_from_pre\n",
    "kdt = KDTree(y_data_pre)\n",
    "data_from_pre = []\n",
    "for point_idx in range(next_p.shape[0]):\n",
    "    point = next_p[point_idx:point_idx+1, :2]\n",
    "    dist, idx = kdt.query(point, k=1)\n",
    "    data_from_pre.append(y_data_pre[idx.squeeze()])"
   ]
  },
  {
   "cell_type": "code",
   "execution_count": 71,
   "id": "cf98d5bd",
   "metadata": {},
   "outputs": [],
   "source": [
    "data_from_pre = np.array(data_from_pre)\n",
    "data_from_now = y_data_now_p[:, :2]"
   ]
  },
  {
   "cell_type": "code",
   "execution_count": 72,
   "id": "27a8bc40",
   "metadata": {},
   "outputs": [],
   "source": [
    "# 开始计算ICP的位置\n",
    "# 去中心化\n",
    "data_from_pre = data_from_pre - np.mean(data_from_pre, axis=0)\n",
    "data_from_now = data_from_now - np.mean(data_from_now, axis=0)"
   ]
  },
  {
   "cell_type": "code",
   "execution_count": 73,
   "id": "1c52315e",
   "metadata": {
    "scrolled": true
   },
   "outputs": [],
   "source": [
    "W = 0\n",
    "for i in range(data_from_pre.shape[0]):\n",
    "    W += data_from_pre[i:i+1].T @ data_from_now[i:i+1]\n",
    "    U, sigma, V = np.linalg.svd(W)\n",
    "R = V.T @ U.T\n",
    "t = np.mean(data_from_pre, axis=0) - R @ np.mean(data_from_now, axis=0)"
   ]
  },
  {
   "cell_type": "code",
   "execution_count": 71,
   "id": "67b0626e",
   "metadata": {},
   "outputs": [
    {
     "data": {
      "text/plain": [
       "array([[ 0.99909739, -0.04247833,  0.01196518],\n",
       "       [ 0.04247833,  0.99909739, -0.00719744],\n",
       "       [ 0.        ,  0.        ,  1.        ]])"
      ]
     },
     "execution_count": 71,
     "metadata": {},
     "output_type": "execute_result"
    }
   ],
   "source": [
    "total_R"
   ]
  },
  {
   "cell_type": "code",
   "execution_count": 75,
   "id": "e4853195",
   "metadata": {},
   "outputs": [],
   "source": [
    "def v2r(v):\n",
    "    return np.array([[np.cos(v[2]), -np.sin(v[2]), v[0]],\n",
    "                    [np.sin(v[2]), np.cos(v[2]), v[1]],\n",
    "                    [0, 0, 1]])\n",
    "\n",
    "def r2v(r):\n",
    "    return np.array([r[0, 2], r[0, 1], np.arctan2(r[1, 0], r[0, 0])])"
   ]
  },
  {
   "cell_type": "code",
   "execution_count": 79,
   "id": "c68a5262",
   "metadata": {},
   "outputs": [],
   "source": [
    "init = np.array([2,2,3.1415926535/4])"
   ]
  },
  {
   "cell_type": "code",
   "execution_count": 94,
   "id": "5cb1fa5b",
   "metadata": {},
   "outputs": [
    {
     "data": {
      "text/plain": [
       "array([[ 0.70710678, -0.70710678,  2.        ],\n",
       "       [ 0.70710678,  0.70710678,  2.        ],\n",
       "       [ 0.        ,  0.        ,  1.        ]])"
      ]
     },
     "execution_count": 94,
     "metadata": {},
     "output_type": "execute_result"
    }
   ],
   "source": [
    "a = v2r(init)\n",
    "a"
   ]
  },
  {
   "cell_type": "code",
   "execution_count": 95,
   "id": "2333f95d",
   "metadata": {},
   "outputs": [
    {
     "data": {
      "text/plain": [
       "array([[ 0.9749093 ,  0.22260246,  1.        ],\n",
       "       [-0.22260246,  0.9749093 ,  2.        ],\n",
       "       [ 0.        ,  0.        ,  1.        ]])"
      ]
     },
     "execution_count": 95,
     "metadata": {},
     "output_type": "execute_result"
    }
   ],
   "source": [
    "b = v2r( np.array([1,2, 31415926535/4]))\n",
    "b"
   ]
  },
  {
   "cell_type": "code",
   "execution_count": 104,
   "id": "86be8154",
   "metadata": {},
   "outputs": [
    {
     "data": {
      "text/plain": [
       "array([[ 0.84676869, -0.53196127,  3.39502352],\n",
       "       [ 0.53196127,  0.84676869,  3.50461369],\n",
       "       [ 0.        ,  0.        ,  1.        ]])"
      ]
     },
     "execution_count": 104,
     "metadata": {},
     "output_type": "execute_result"
    }
   ],
   "source": [
    "c=b@a\n",
    "c"
   ]
  },
  {
   "cell_type": "code",
   "execution_count": 99,
   "id": "a57b2139",
   "metadata": {},
   "outputs": [
    {
     "data": {
      "text/plain": [
       "array([[ 0.84676869, -0.53196127,  1.29289322],\n",
       "       [ 0.53196127,  0.84676869,  4.12132034],\n",
       "       [ 0.        ,  0.        ,  1.        ]])"
      ]
     },
     "execution_count": 99,
     "metadata": {},
     "output_type": "execute_result"
    }
   ],
   "source": [
    "c=a@b\n",
    "c"
   ]
  },
  {
   "cell_type": "code",
   "execution_count": 100,
   "id": "ce714a1e",
   "metadata": {},
   "outputs": [],
   "source": [
    "test_point = [1,2,1]"
   ]
  },
  {
   "cell_type": "code",
   "execution_count": 101,
   "id": "4ae47eb8",
   "metadata": {},
   "outputs": [
    {
     "data": {
      "text/plain": [
       "array([1.07573936, 6.34681898, 1.        ])"
      ]
     },
     "execution_count": 101,
     "metadata": {},
     "output_type": "execute_result"
    }
   ],
   "source": [
    "a@b@test_point"
   ]
  },
  {
   "cell_type": "code",
   "execution_count": 102,
   "id": "f96565a1",
   "metadata": {},
   "outputs": [
    {
     "data": {
      "text/plain": [
       "array([1.07573936, 6.34681898, 1.        ])"
      ]
     },
     "execution_count": 102,
     "metadata": {},
     "output_type": "execute_result"
    }
   ],
   "source": [
    "c@test_point\n"
   ]
  },
  {
   "cell_type": "markdown",
   "id": "da04384d",
   "metadata": {},
   "source": [
    "## Testing for real data"
   ]
  },
  {
   "cell_type": "code",
   "execution_count": 171,
   "id": "3730d5a2",
   "metadata": {},
   "outputs": [],
   "source": [
    "import re\n",
    "with open(\"abc.txt\", \"r\") as f:\n",
    "    data_13 = re.split(\"\\n| \", f.read())\n",
    "for i in data_13:\n",
    "    if i == \"\":\n",
    "        data_13.remove(i)\n",
    "data = list(map(float, data_13))\n",
    "data = np.array(data)\n",
    "data.resize((13,181,2))"
   ]
  },
  {
   "cell_type": "code",
   "execution_count": 172,
   "id": "c90176ca",
   "metadata": {},
   "outputs": [
    {
     "data": {
      "text/plain": [
       "(13, 181, 2)"
      ]
     },
     "execution_count": 172,
     "metadata": {},
     "output_type": "execute_result"
    }
   ],
   "source": [
    "data.shape"
   ]
  },
  {
   "cell_type": "code",
   "execution_count": 175,
   "id": "4908d631",
   "metadata": {},
   "outputs": [],
   "source": [
    "y_data_pre, y_data_now = data[0], data[1]"
   ]
  },
  {
   "cell_type": "code",
   "execution_count": 174,
   "id": "8f0f0c0a",
   "metadata": {},
   "outputs": [
    {
     "data": {
      "text/plain": [
       "(181, 2)"
      ]
     },
     "execution_count": 174,
     "metadata": {},
     "output_type": "execute_result"
    }
   ],
   "source": [
    "pre.shape"
   ]
  },
  {
   "cell_type": "code",
   "execution_count": 229,
   "id": "3360577c",
   "metadata": {},
   "outputs": [
    {
     "data": {
      "text/plain": [
       "<matplotlib.collections.PathCollection at 0x7f87bd443490>"
      ]
     },
     "execution_count": 229,
     "metadata": {},
     "output_type": "execute_result"
    },
    {
     "data": {
      "image/png": "[encoded data removed]",
      "text/plain": [
       "<Figure size 432x288 with 1 Axes>"
      ]
     },
     "metadata": {
      "needs_background": "light"
     },
     "output_type": "display_data"
    }
   ],
   "source": [
    "plt.scatter(data[0][:,0], data[0][:,1], marker='o', s=10)\n",
    "plt.scatter(data[6][:,0], data[6][:,1], marker='o', s=10)\n",
    "plt.scatter(data[12][:,0], data[12][:,1], marker='o', s=10)\n"
   ]
  },
  {
   "cell_type": "code",
   "execution_count": 230,
   "id": "54610ccb",
   "metadata": {
    "scrolled": true
   },
   "outputs": [
    {
     "data": {
      "text/plain": [
       "array([[ 0.99999758, -0.00219806,  0.01754253],\n",
       "       [ 0.00219806,  0.99999758, -0.28312554],\n",
       "       [ 0.        ,  0.        ,  1.        ]])"
      ]
     },
     "execution_count": 230,
     "metadata": {},
     "output_type": "execute_result"
    }
   ],
   "source": [
    "icpp(data[0], data[12])"
   ]
  },
  {
   "cell_type": "code",
   "execution_count": 255,
   "id": "29f94b66",
   "metadata": {},
   "outputs": [
    {
     "data": {
      "text/plain": [
       "array([[ 0.99988288,  0.01530425, -0.00663943],\n",
       "       [-0.01530425,  0.99988288,  0.26661462],\n",
       "       [ 0.        ,  0.        ,  1.        ]])"
      ]
     },
     "execution_count": 255,
     "metadata": {},
     "output_type": "execute_result"
    }
   ],
   "source": [
    "\n",
    "n = np.eye(3)\n",
    "for i in range(11,0,-1):\n",
    "    n = n @ icpp(data[i+1], data[i])\n",
    "n"
   ]
  },
  {
   "cell_type": "code",
   "execution_count": 226,
   "id": "79b7fcbe",
   "metadata": {},
   "outputs": [],
   "source": [
    "b=(n@np.hstack((data[0], np.ones((data[0].shape[0], 1)))).T).T"
   ]
  },
  {
   "cell_type": "code",
   "execution_count": 227,
   "id": "4154c0b8",
   "metadata": {},
   "outputs": [],
   "source": [
    "b = b[:,:2]"
   ]
  },
  {
   "cell_type": "code",
   "execution_count": 228,
   "id": "a794176f",
   "metadata": {},
   "outputs": [
    {
     "data": {
      "text/plain": [
       "<matplotlib.collections.PathCollection at 0x7f87bd469850>"
      ]
     },
     "execution_count": 228,
     "metadata": {},
     "output_type": "execute_result"
    },
    {
     "data": {
      "image/png": "[encoded data removed]",
      "text/plain": [
       "<Figure size 432x288 with 1 Axes>"
      ]
     },
     "metadata": {
      "needs_background": "light"
     },
     "output_type": "display_data"
    }
   ],
   "source": [
    "plt.scatter(data[0][:,0], data[0][:,1], marker='o', s=10)\n",
    "\n",
    "plt.scatter(b[:,0], b[:,1], marker='o', s=10)\n",
    "plt.scatter(data[12][:,0], data[12][:,1], marker='o', s=10)"
   ]
  },
  {
   "cell_type": "code",
   "execution_count": 237,
   "id": "f7850198",
   "metadata": {},
   "outputs": [],
   "source": [
    "origin = np.zeros(3)"
   ]
  },
  {
   "cell_type": "code",
   "execution_count": 246,
   "id": "637d7be4",
   "metadata": {},
   "outputs": [],
   "source": [
    "now_iso = icpp(data[12], data[0]) @ v2r(origin)"
   ]
  },
  {
   "cell_type": "code",
   "execution_count": 247,
   "id": "acc41838",
   "metadata": {},
   "outputs": [
    {
     "data": {
      "text/plain": [
       "array([[ 0.99994642, -0.01035162,  0.00359686],\n",
       "       [ 0.01035162,  0.99994642,  0.29184802],\n",
       "       [ 0.        ,  0.        ,  1.        ]])"
      ]
     },
     "execution_count": 247,
     "metadata": {},
     "output_type": "execute_result"
    }
   ],
   "source": [
    "now_iso"
   ]
  },
  {
   "cell_type": "code",
   "execution_count": 244,
   "id": "0a29e37a",
   "metadata": {},
   "outputs": [],
   "source": [
    "now_pose = np.array([now_iso[0, 2], now_iso[1, 2], np.arctan2(now_iso[1, 0], now_iso[0, 0])])\n"
   ]
  },
  {
   "cell_type": "code",
   "execution_count": 256,
   "id": "24897cc3",
   "metadata": {},
   "outputs": [
    {
     "data": {
      "text/plain": [
       "array([[ 0.99994642, -0.01035162,  0.00359686],\n",
       "       [ 0.01035162,  0.99994642,  0.29184802],\n",
       "       [ 0.        ,  0.        ,  1.        ]])"
      ]
     },
     "execution_count": 256,
     "metadata": {},
     "output_type": "execute_result"
    }
   ],
   "source": [
    "icpp(data[12], data[0])"
   ]
  },
  {
   "cell_type": "markdown",
   "id": "b08ba55d",
   "metadata": {},
   "source": [
    "## Testing for rotation"
   ]
  },
  {
   "cell_type": "code",
   "execution_count": null,
   "id": "ae523150",
   "metadata": {},
   "outputs": [],
   "source": []
  }
 ],
 "metadata": {
  "kernelspec": {
   "display_name": "Python 3 (ipykernel)",
   "language": "python",
   "name": "python3"
  },
  "language_info": {
   "codemirror_mode": {
    "name": "ipython",
    "version": 3
   },
   "file_extension": ".py",
   "mimetype": "text/x-python",
   "name": "python",
   "nbconvert_exporter": "python",
   "pygments_lexer": "ipython3",
   "version": "3.8.10"
  }
 },
 "nbformat": 4,
 "nbformat_minor": 5
}
